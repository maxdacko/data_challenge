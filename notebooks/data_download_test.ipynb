{
 "cells": [
  {
   "cell_type": "code",
   "execution_count": 2,
   "metadata": {},
   "outputs": [
    {
     "name": "stderr",
     "output_type": "stream",
     "text": [
      "/Users/mdacko/anaconda3/lib/python3.11/site-packages/pandas/core/arrays/masked.py:60: UserWarning: Pandas requires version '1.3.6' or newer of 'bottleneck' (version '1.3.5' currently installed).\n",
      "  from pandas.core import (\n"
     ]
    }
   ],
   "source": [
    "import pandas as pd\n",
    "import requests\n",
    "import os\n",
    "import json"
   ]
  },
  {
   "cell_type": "code",
   "execution_count": 3,
   "metadata": {},
   "outputs": [],
   "source": [
    "DATASETS = {\n",
    "    \"allowance_events\": \"https://gist.githubusercontent.com/DaniModak/d0cdc441bc2cab2abdc5b37e45ca5cb4/raw/13ded757082f09740a0ca351f926b74c336206ab/allowance_events\",\n",
    "    \"allowance_backend_table\": \"https://gist.githubusercontent.com/DaniModak/d0cdc441bc2cab2abdc5b37e45ca5cb4/raw/13ded757082f09740a0ca351f926b74c336206ab/allowance_backend_table\",\n",
    "    \"payment_schedule_backend_table\": \"https://gist.githubusercontent.com/DaniModak/d0cdc441bc2cab2abdc5b37e45ca5cb4/raw/13ded757082f09740a0ca351f926b74c336206ab/payment_schedule_backend_table\",\n",
    "}"
   ]
  },
  {
   "cell_type": "code",
   "execution_count": 4,
   "metadata": {},
   "outputs": [],
   "source": [
    "def download_file(url, dest_path):\n",
    "    if not os.path.exists(dest_path):\n",
    "        print(f\"Downloading {url} to {dest_path}...\")\n",
    "        response = requests.get(url)\n",
    "        response.raise_for_status()\n",
    "        with open(dest_path, 'wb') as f:\n",
    "            f.write(response.content)\n",
    "        print(f\"Downloaded {dest_path}.\")\n",
    "    else:\n",
    "        print(f\"{dest_path} already exists. Skipping download!\")\n",
    "\n",
    "def load_allowance_events(file_path):\n",
    "    with open(file_path, 'r') as f:\n",
    "        data = json.load(f)\n",
    "    return pd.json_normalize(data)\n",
    "\n",
    "def load_allowance_backend(file_path):\n",
    "    return pd.read_csv(file_path)\n",
    "\n",
    "def load_payment_schedule(file_path):\n",
    "    return pd.read_csv(file_path)\n",
    "\n",
    "def prepare_datasets(data_dir=\"../data/input\"):\n",
    "    \"\"\"Download datasets and load them as dataframes.\"\"\"\n",
    "    os.makedirs(data_dir, exist_ok=True) \n",
    "\n",
    "    for name, url in DATASETS.items():\n",
    "        dest_path = os.path.join(data_dir, f\"{name}.{'json' if 'allowance_events' in url else 'csv'}\")\n",
    "        download_file(url, dest_path) \n",
    "\n",
    "    allowance_events = load_allowance_events(os.path.join(data_dir, \"allowance_events.json\"))\n",
    "    allowance_backend = load_allowance_backend(os.path.join(data_dir, \"allowance_backend_table.csv\"))\n",
    "    payment_schedule = load_payment_schedule(os.path.join(data_dir, \"payment_schedule_backend_table.csv\"))\n",
    "\n",
    "    return allowance_events, allowance_backend, payment_schedule"
   ]
  },
  {
   "cell_type": "code",
   "execution_count": 5,
   "metadata": {},
   "outputs": [
    {
     "name": "stdout",
     "output_type": "stream",
     "text": [
      "Downloading https://gist.githubusercontent.com/DaniModak/d0cdc441bc2cab2abdc5b37e45ca5cb4/raw/13ded757082f09740a0ca351f926b74c336206ab/allowance_events to ../data/allowance_events.json...\n",
      "Downloaded ../data/allowance_events.json.\n",
      "Downloading https://gist.githubusercontent.com/DaniModak/d0cdc441bc2cab2abdc5b37e45ca5cb4/raw/13ded757082f09740a0ca351f926b74c336206ab/allowance_backend_table to ../data/allowance_backend_table.csv...\n",
      "Downloaded ../data/allowance_backend_table.csv.\n",
      "Downloading https://gist.githubusercontent.com/DaniModak/d0cdc441bc2cab2abdc5b37e45ca5cb4/raw/13ded757082f09740a0ca351f926b74c336206ab/payment_schedule_backend_table to ../data/payment_schedule_backend_table.csv...\n",
      "Downloaded ../data/payment_schedule_backend_table.csv.\n",
      "Allowance Events:\n",
      "                                user.id      event.timestamp  \\\n",
      "0  03c5ffe8-6cd2-434b-a1b2-c4006860d94c   2024-09-21 1:39:34   \n",
      "1  03c5ffe8-6cd2-434b-a1b2-c4006860d94c  2024-09-22 19:38:22   \n",
      "2  03c5ffe8-6cd2-434b-a1b2-c4006860d94c  2024-09-22 19:38:22   \n",
      "3  05384674-4af8-4f70-8d8f-90e19b0db971   2024-10-06 6:32:28   \n",
      "4  05384674-4af8-4f70-8d8f-90e19b0db971   2024-10-06 6:32:37   \n",
      "\n",
      "          event.name allowance.scheduled.frequency allowance.scheduled.day  \\\n",
      "0  allowance.created                        weekly                  sunday   \n",
      "1   allowance.edited                        weekly                  sunday   \n",
      "2   allowance.edited                        weekly                  sunday   \n",
      "3  allowance.created                      biweekly                  friday   \n",
      "4   allowance.edited                        weekly                  friday   \n",
      "\n",
      "   allowance.amount  \n",
      "0                10  \n",
      "1                10  \n",
      "2                10  \n",
      "3                10  \n",
      "4                10  \n",
      "\n",
      "Allowance Backend Table:\n",
      "                                   uuid  creation_date frequency  \\\n",
      "0  30f4e25e-3e37-462e-8c3c-42f24f54350f     1724838709   monthly   \n",
      "1  6da398ad-079d-49b9-8668-6d7ce4d22683     1724659829   monthly   \n",
      "2  2d30fe2d-6c32-4b8a-a19b-906184f64f62     1731309159   monthly   \n",
      "3  c30180f3-b35c-470c-b25a-f12ec4ce3340     1725414982   monthly   \n",
      "4  9f5768db-e953-4057-9fa5-264c46293fbd     1726267511  biweekly   \n",
      "\n",
      "             day                      updated_at  next_payment_day    status  \n",
      "0  fifteenth_day  2024-10-15T08:00:41.445627563Z                15   enabled  \n",
      "1  fifteenth_day                      1724659829                15   enabled  \n",
      "2  fifteenth_day                      1731309159                15   enabled  \n",
      "3      first_day  2024-10-01T08:00:37.516552581Z                 1   enabled  \n",
      "4         friday   2024-10-02T02:33:10.97923183Z                11  disabled  \n",
      "\n",
      "Payment Schedule Backend Table:\n",
      "                                user_id  payment_date\n",
      "0  061d8039-b332-40ca-b906-3514b06411c2            22\n",
      "1  0ca92d01-feed-42e5-b90c-299b615f9d3f            22\n",
      "2  160bcd2d-3ab0-4a60-9bfa-ccfcc1ee17e4            22\n",
      "3  1649fee7-c424-4fb7-ac84-db36e15e042a            22\n",
      "4  1d647703-874d-4744-b4de-6a5212518aa8            22\n"
     ]
    }
   ],
   "source": [
    "events, backend, schedule = prepare_datasets()\n",
    "print(\"Allowance Events:\")\n",
    "print(events.head())\n",
    "print(\"\\nAllowance Backend Table:\")\n",
    "print(backend.head())\n",
    "print(\"\\nPayment Schedule Backend Table:\")\n",
    "print(schedule.head())"
   ]
  }
 ],
 "metadata": {
  "kernelspec": {
   "display_name": "base",
   "language": "python",
   "name": "python3"
  },
  "language_info": {
   "codemirror_mode": {
    "name": "ipython",
    "version": 3
   },
   "file_extension": ".py",
   "mimetype": "text/x-python",
   "name": "python",
   "nbconvert_exporter": "python",
   "pygments_lexer": "ipython3",
   "version": "3.11.5"
  }
 },
 "nbformat": 4,
 "nbformat_minor": 2
}
